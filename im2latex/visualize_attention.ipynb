{
 "cells": [
  {
   "cell_type": "markdown",
   "metadata": {
    "toc": true
   },
   "source": [
    "<h1>Table of Contents<span class=\"tocSkip\"></span></h1>\n",
    "<div class=\"toc\" style=\"margin-top: 1em;\"><ul class=\"toc-item\"></ul></div>"
   ]
  },
  {
   "cell_type": "code",
   "execution_count": 3,
   "metadata": {
    "ExecuteTime": {
     "end_time": "2019-02-16T11:10:49.560817Z",
     "start_time": "2019-02-16T11:10:23.520125Z"
    }
   },
   "outputs": [],
   "source": [
    "from scipy.misc import imread\n",
    "import PIL\n",
    "import os\n",
    "from PIL import Image\n",
    "import numpy as np\n",
    "from IPython.display import display, Math, Latex, Image\n",
    "import matplotlib.pyplot as plt\n",
    "%matplotlib inline\n",
    "\n",
    "from model.img2seq import Img2SeqModel\n",
    "from model.utils.general import Config, run\n",
    "from model.utils.text import Vocab\n",
    "from model.utils.image import greyscale, crop_image, pad_image, downsample_image, TIMEOUT\n",
    "import model.components.attention_mechanism"
   ]
  },
  {
   "cell_type": "code",
   "execution_count": 4,
   "metadata": {
    "ExecuteTime": {
     "end_time": "2019-02-16T11:10:50.938157Z",
     "start_time": "2019-02-16T11:10:49.621846Z"
    }
   },
   "outputs": [
    {
     "ename": "FileNotFoundError",
     "evalue": "[Errno 2] No such file or directory: './results/full/vocab.json'",
     "output_type": "error",
     "traceback": [
      "\u001b[0;31m---------------------------------------------------------------------------\u001b[0m",
      "\u001b[0;31mFileNotFoundError\u001b[0m                         Traceback (most recent call last)",
      "\u001b[0;32m<ipython-input-4-e71ffa78d03b>\u001b[0m in \u001b[0;36m<module>\u001b[0;34m()\u001b[0m\n\u001b[1;32m      1\u001b[0m \u001b[0;31m# restore config and model\u001b[0m\u001b[0;34m\u001b[0m\u001b[0;34m\u001b[0m\u001b[0m\n\u001b[1;32m      2\u001b[0m \u001b[0mdir_output\u001b[0m \u001b[0;34m=\u001b[0m \u001b[0;34m\"./results/full/\"\u001b[0m\u001b[0;34m\u001b[0m\u001b[0m\n\u001b[0;32m----> 3\u001b[0;31m \u001b[0mconfig_vocab\u001b[0m \u001b[0;34m=\u001b[0m \u001b[0mConfig\u001b[0m\u001b[0;34m(\u001b[0m\u001b[0mdir_output\u001b[0m \u001b[0;34m+\u001b[0m \u001b[0;34m\"vocab.json\"\u001b[0m\u001b[0;34m)\u001b[0m\u001b[0;34m\u001b[0m\u001b[0m\n\u001b[0m\u001b[1;32m      4\u001b[0m \u001b[0mconfig_model\u001b[0m \u001b[0;34m=\u001b[0m \u001b[0mConfig\u001b[0m\u001b[0;34m(\u001b[0m\u001b[0mdir_output\u001b[0m \u001b[0;34m+\u001b[0m \u001b[0;34m\"model.json\"\u001b[0m\u001b[0;34m)\u001b[0m\u001b[0;34m\u001b[0m\u001b[0m\n\u001b[1;32m      5\u001b[0m \u001b[0mvocab\u001b[0m \u001b[0;34m=\u001b[0m \u001b[0mVocab\u001b[0m\u001b[0;34m(\u001b[0m\u001b[0mconfig_vocab\u001b[0m\u001b[0;34m)\u001b[0m\u001b[0;34m\u001b[0m\u001b[0m\n",
      "\u001b[0;32m/mnt/c/Users/dlink/Documents/GitHub/img2latex/im2latex/model/utils/general.py\u001b[0m in \u001b[0;36m__init__\u001b[0;34m(self, source)\u001b[0m\n\u001b[1;32m    102\u001b[0m                 \u001b[0mself\u001b[0m\u001b[0;34m.\u001b[0m\u001b[0mload_json\u001b[0m\u001b[0;34m(\u001b[0m\u001b[0ms\u001b[0m\u001b[0;34m)\u001b[0m\u001b[0;34m\u001b[0m\u001b[0m\n\u001b[1;32m    103\u001b[0m         \u001b[0;32melse\u001b[0m\u001b[0;34m:\u001b[0m\u001b[0;34m\u001b[0m\u001b[0m\n\u001b[0;32m--> 104\u001b[0;31m             \u001b[0mself\u001b[0m\u001b[0;34m.\u001b[0m\u001b[0mload_json\u001b[0m\u001b[0;34m(\u001b[0m\u001b[0msource\u001b[0m\u001b[0;34m)\u001b[0m\u001b[0;34m\u001b[0m\u001b[0m\n\u001b[0m\u001b[1;32m    105\u001b[0m \u001b[0;34m\u001b[0m\u001b[0m\n\u001b[1;32m    106\u001b[0m     \u001b[0;32mdef\u001b[0m \u001b[0mload_json\u001b[0m\u001b[0;34m(\u001b[0m\u001b[0mself\u001b[0m\u001b[0;34m,\u001b[0m \u001b[0msource\u001b[0m\u001b[0;34m)\u001b[0m\u001b[0;34m:\u001b[0m\u001b[0;34m\u001b[0m\u001b[0m\n",
      "\u001b[0;32m/mnt/c/Users/dlink/Documents/GitHub/img2latex/im2latex/model/utils/general.py\u001b[0m in \u001b[0;36mload_json\u001b[0;34m(self, source)\u001b[0m\n\u001b[1;32m    105\u001b[0m \u001b[0;34m\u001b[0m\u001b[0m\n\u001b[1;32m    106\u001b[0m     \u001b[0;32mdef\u001b[0m \u001b[0mload_json\u001b[0m\u001b[0;34m(\u001b[0m\u001b[0mself\u001b[0m\u001b[0;34m,\u001b[0m \u001b[0msource\u001b[0m\u001b[0;34m)\u001b[0m\u001b[0;34m:\u001b[0m\u001b[0;34m\u001b[0m\u001b[0m\n\u001b[0;32m--> 107\u001b[0;31m         \u001b[0;32mwith\u001b[0m \u001b[0mopen\u001b[0m\u001b[0;34m(\u001b[0m\u001b[0msource\u001b[0m\u001b[0;34m)\u001b[0m \u001b[0;32mas\u001b[0m \u001b[0mf\u001b[0m\u001b[0;34m:\u001b[0m\u001b[0;34m\u001b[0m\u001b[0m\n\u001b[0m\u001b[1;32m    108\u001b[0m             \u001b[0mdata\u001b[0m \u001b[0;34m=\u001b[0m \u001b[0mjson\u001b[0m\u001b[0;34m.\u001b[0m\u001b[0mload\u001b[0m\u001b[0;34m(\u001b[0m\u001b[0mf\u001b[0m\u001b[0;34m)\u001b[0m\u001b[0;34m\u001b[0m\u001b[0m\n\u001b[1;32m    109\u001b[0m             \u001b[0mself\u001b[0m\u001b[0;34m.\u001b[0m\u001b[0m__dict__\u001b[0m\u001b[0;34m.\u001b[0m\u001b[0mupdate\u001b[0m\u001b[0;34m(\u001b[0m\u001b[0mdata\u001b[0m\u001b[0;34m)\u001b[0m\u001b[0;34m\u001b[0m\u001b[0m\n",
      "\u001b[0;31mFileNotFoundError\u001b[0m: [Errno 2] No such file or directory: './results/full/vocab.json'"
     ]
    }
   ],
   "source": [
    "# restore config and model\n",
    "dir_output = \"./results/full/\"\n",
    "config_vocab = Config(dir_output + \"vocab.json\")\n",
    "config_model = Config(dir_output + \"model.json\")\n",
    "vocab = Vocab(config_vocab)\n",
    "model.components.attention_mechanism.ctx_vector = []\n",
    "img2SeqModel = Img2SeqModel(config_model, dir_output, vocab)\n",
    "img2SeqModel.build_pred()\n",
    "# img2SeqModel.restore_session(dir_output + \"model_weights/model.cpkt\")"
   ]
  },
  {
   "cell_type": "code",
   "execution_count": null,
   "metadata": {
    "ExecuteTime": {
     "end_time": "2019-02-16T09:38:02.320623Z",
     "start_time": "2019-02-16T09:36:44.492Z"
    }
   },
   "outputs": [],
   "source": [
    "def readImg(img_path):\n",
    "    if img_path[-3:] == \"png\":\n",
    "        img = imread(img_path)\n",
    "\n",
    "    elif img_path[-3:] == \"pdf\":\n",
    "        # call magick to convert the pdf into a png file\n",
    "        buckets = [\n",
    "        [240, 100], [320, 80], [400, 80], [400, 100], [480, 80], [480, 100],\n",
    "        [560, 80], [560, 100], [640, 80], [640, 100], [720, 80], [720, 100],\n",
    "        [720, 120], [720, 200], [800, 100], [800, 320], [1000, 200],\n",
    "        [1000, 400], [1200, 200], [1600, 200], [1600, 1600]\n",
    "        ]\n",
    "\n",
    "        dir_output = \"tmp/\"\n",
    "        name = img_path.split('/')[-1].split('.')[0]\n",
    "        run(\"magick convert -density {} -quality {} {} {}\".format(200, 100, img_path, dir_output+\"{}.png\".format(name)), TIMEOUT)\n",
    "        img_path = dir_output + \"{}.png\".format(name)\n",
    "        crop_image(img_path, img_path)\n",
    "        pad_image(img_path, img_path, buckets=buckets)\n",
    "        downsample_image(img_path, img_path, 2)\n",
    "\n",
    "        img = imread(img_path)\n",
    "    return img"
   ]
  },
  {
   "cell_type": "code",
   "execution_count": null,
   "metadata": {
    "ExecuteTime": {
     "end_time": "2019-02-16T09:38:02.334494Z",
     "start_time": "2019-02-16T09:36:48.679Z"
    },
    "scrolled": true
   },
   "outputs": [],
   "source": [
    "img_path = \"data/images_test/0.png\"\n",
    "img = readImg(img_path)\n",
    "print(type(img), img.shape)\n",
    "img = greyscale(img)\n",
    "print(type(img), img.shape)\n",
    "\n",
    "hyps = img2SeqModel.predict(img)"
   ]
  },
  {
   "cell_type": "code",
   "execution_count": null,
   "metadata": {
    "ExecuteTime": {
     "end_time": "2019-02-16T09:38:02.346647Z",
     "start_time": "2019-02-16T09:36:52.288Z"
    }
   },
   "outputs": [],
   "source": [
    "# 1、显示图片\n",
    "import matplotlib.pyplot as plt #plt 用于显示图片\n",
    "import matplotlib.image as mpimg #mpimg 用于读取图片\n",
    "\n",
    "lena = mpimg.imread(img_path) #读取目录下的图片\n",
    "# 此时 lena 就已经是一个 np.array 了，可以对它进行任意处理\n",
    "# print(lena.shape)\n",
    "\n",
    "print(\"the image to predict:\")\n",
    "plt.figure(num=1, figsize=(8,5),)\n",
    "plt.imshow(lena) # 显示图片\n",
    "plt.axis('off') # 不显示坐标轴\n",
    "plt.show()\n",
    "\n",
    "print(\"predict LatTeX:\\n\")\n",
    "print(hyps[0])\n",
    "\n",
    "print(\"\\n\\nrender LatTeX:\")\n",
    "displayPreds = lambda LaTeX: display(Math(LaTeX))\n",
    "displayPreds(hyps[0])"
   ]
  },
  {
   "cell_type": "code",
   "execution_count": 7,
   "metadata": {
    "ExecuteTime": {
     "end_time": "2019-02-14T09:12:15.630770Z",
     "start_time": "2019-02-14T09:12:15.609421Z"
    }
   },
   "outputs": [
    {
     "name": "stdout",
     "output_type": "stream",
     "text": [
      "48\n"
     ]
    }
   ],
   "source": [
    "print(len(model.components.attention_mechanism.ctx_vector))"
   ]
  },
  {
   "cell_type": "code",
   "execution_count": 8,
   "metadata": {
    "ExecuteTime": {
     "end_time": "2019-02-14T09:12:15.737923Z",
     "start_time": "2019-02-14T09:12:15.650181Z"
    }
   },
   "outputs": [
    {
     "data": {
      "text/plain": [
       "47"
      ]
     },
     "execution_count": 8,
     "metadata": {},
     "output_type": "execute_result"
    }
   ],
   "source": [
    "len(hyps[0].split(\" \"))"
   ]
  },
  {
   "cell_type": "code",
   "execution_count": 14,
   "metadata": {
    "ExecuteTime": {
     "end_time": "2019-02-15T02:53:22.045494Z",
     "start_time": "2019-02-15T02:53:22.001526Z"
    }
   },
   "outputs": [
    {
     "name": "stdout",
     "output_type": "stream",
     "text": [
      "(64, 63, 30, 24, 27, 32, 25, 95, 96, 31, 29, 62, 55, 97, 65, 98, 6, 93, 54, 69, 58, 57, 18, 85, 91, 82, 84)\n",
      "Attention weights:  (0.1904561, 0.10216277, 0.10134463, 0.07614658, 0.07094339, 0.038535256, 0.036463838, 0.029841008, 0.029266104, 0.023798723, 0.022133887, 0.020347353, 0.020001085, 0.018455146, 0.018046502, 0.014349735, 0.013038323, 0.012035104, 0.009469746, 0.009181045, 0.008439194, 0.007407488, 0.0071987226, 0.0068834303, 0.006534636, 0.006301264, 0.005370869)\n"
     ]
    }
   ],
   "source": [
    "attentionVector = model.components.attention_mechanism.ctx_vector[-1]\n",
    "att = sorted(list(enumerate(attentionVector[0].flatten())),key=lambda tup:tup[1],reverse=True)\n",
    "idxs,att = zip(*att)\n",
    "j=1\n",
    "while sum(att[:j])<0.9:\n",
    "    j+=1\n",
    "positions = idxs[:j]\n",
    "print(positions)\n",
    "print(\"Attention weights: \",att[:j])"
   ]
  },
  {
   "cell_type": "code",
   "execution_count": 13,
   "metadata": {
    "ExecuteTime": {
     "end_time": "2019-02-15T02:53:05.344553Z",
     "start_time": "2019-02-15T02:53:05.330339Z"
    }
   },
   "outputs": [
    {
     "data": {
      "text/plain": [
       "array([9.3959075e-01, 2.0876327e-03, 3.2866478e-03, 2.4950641e-04,\n",
       "       3.0967468e-04, 2.3808115e-04, 6.1698418e-05, 2.6550841e-05,\n",
       "       5.1027200e-05, 3.3716758e-04, 2.0829633e-04, 2.7439621e-05,\n",
       "       1.5274204e-04, 3.0233712e-05, 3.1925857e-04, 3.7960289e-04,\n",
       "       1.0786975e-03, 2.1520576e-04, 1.8019842e-03, 1.4730977e-03,\n",
       "       7.8232127e-04, 3.1625730e-04, 1.3336356e-04, 9.9885836e-04,\n",
       "       3.2250967e-04, 1.2331855e-04, 8.1130587e-05, 4.8978406e-04,\n",
       "       2.8864069e-05, 2.8253253e-05, 9.5078949e-04, 2.7533164e-04,\n",
       "       5.6721200e-04, 3.1077291e-03, 2.4645852e-03, 1.4845381e-04,\n",
       "       4.8341864e-04, 1.2559067e-04, 2.4762601e-05, 1.1672025e-04,\n",
       "       5.2983945e-05, 6.3636908e-05, 1.8117811e-05, 2.2001148e-04,\n",
       "       9.6235868e-05, 8.6369160e-05, 3.3533779e-05, 6.7354430e-04,\n",
       "       3.2971663e-04, 2.6712942e-04, 1.4470983e-04, 5.0995243e-04,\n",
       "       1.8884750e-02, 1.7526154e-05, 6.2041938e-05, 8.9454296e-04,\n",
       "       1.8156393e-04, 1.9371520e-04, 1.9613365e-04, 6.7375695e-05,\n",
       "       2.4883298e-04, 4.9420763e-05, 4.1164967e-04, 2.1211756e-04,\n",
       "       4.0290077e-04, 7.7466166e-04, 3.5425441e-03, 1.9063664e-03,\n",
       "       3.0951409e-04, 7.6180627e-04, 6.4607979e-05, 2.7305703e-05,\n",
       "       4.8134068e-05, 1.2401982e-04, 8.9464185e-05, 5.5910987e-05,\n",
       "       1.2489242e-04, 1.3597361e-05, 6.1298983e-06, 3.8339975e-05,\n",
       "       6.5509294e-04, 4.3320269e-04, 9.0399371e-05, 8.6014887e-05,\n",
       "       6.1338546e-04, 5.0300482e-04, 2.3738861e-05, 8.7347427e-05,\n",
       "       1.4091641e-04, 8.9126115e-05, 4.9697348e-05, 8.4031803e-05,\n",
       "       1.1010918e-04, 5.8683912e-05, 6.3733598e-05, 6.0876069e-04,\n",
       "       9.1740854e-05, 2.5580262e-04, 2.5468579e-04], dtype=float32)"
      ]
     },
     "execution_count": 13,
     "metadata": {},
     "output_type": "execute_result"
    }
   ],
   "source": [
    "attentionVector[0]"
   ]
  },
  {
   "cell_type": "code",
   "execution_count": 15,
   "metadata": {
    "ExecuteTime": {
     "end_time": "2019-02-15T02:53:30.482794Z",
     "start_time": "2019-02-15T02:53:30.469355Z"
    }
   },
   "outputs": [
    {
     "name": "stdout",
     "output_type": "stream",
     "text": [
      "280 40 5 35\n"
     ]
    }
   ],
   "source": [
    "l_size = 280\n",
    "r_size = 40\n",
    "l = int(np.ceil(r_size/8.))\n",
    "r = int(np.ceil(l_size/8.))\n",
    "print(l_size, r_size, l, r)"
   ]
  },
  {
   "cell_type": "code",
   "execution_count": 16,
   "metadata": {
    "ExecuteTime": {
     "end_time": "2019-02-15T02:53:32.378829Z",
     "start_time": "2019-02-15T02:53:32.347392Z"
    }
   },
   "outputs": [],
   "source": [
    "positions_norm = [(pos/r,pos%r) for pos in positions]\n",
    "outarray = np.ones((l,r))*255.\n",
    "for loc in positions_norm:\n",
    "    outarray[int(loc[0]), int(loc[1])] = 0.\n",
    "out_image = Image.fromarray(outarray).resize((l_size,r_size),Image.NEAREST)"
   ]
  },
  {
   "cell_type": "code",
   "execution_count": null,
   "metadata": {
    "ExecuteTime": {
     "end_time": "2019-02-14T11:14:21.537244Z",
     "start_time": "2019-02-14T11:14:07.983Z"
    }
   },
   "outputs": [],
   "source": [
    "for pos in positions:\n",
    "    print(\"({}, {})\".format(int(pos/r), int(pos%r)))"
   ]
  },
  {
   "cell_type": "code",
   "execution_count": null,
   "metadata": {
    "ExecuteTime": {
     "end_time": "2019-02-14T11:14:21.544462Z",
     "start_time": "2019-02-14T11:14:11.863Z"
    }
   },
   "outputs": [],
   "source": [
    "positions_norm"
   ]
  },
  {
   "cell_type": "code",
   "execution_count": 17,
   "metadata": {
    "ExecuteTime": {
     "end_time": "2019-02-15T02:53:38.017463Z",
     "start_time": "2019-02-15T02:53:37.999189Z"
    }
   },
   "outputs": [],
   "source": [
    "inp_image =Image.open(img_path)\n",
    "# inp_image = Image.fromarray(lena).resize((l_size,r_size))\n",
    "outp = Image.blend(inp_image.convert('RGBA'),out_image.convert('RGBA'),0.5)"
   ]
  },
  {
   "cell_type": "code",
   "execution_count": 18,
   "metadata": {
    "ExecuteTime": {
     "end_time": "2019-02-15T02:53:41.019204Z",
     "start_time": "2019-02-15T02:53:40.727238Z"
    }
   },
   "outputs": [
    {
     "data": {
      "text/plain": [
       "<matplotlib.image.AxesImage at 0x7f229418c5f8>"
      ]
     },
     "execution_count": 18,
     "metadata": {},
     "output_type": "execute_result"
    },
    {
     "data": {
      "image/png": "[encoded data removed]",
      "text/plain": [
       "<matplotlib.figure.Figure at 0x7f2294267588>"
      ]
     },
     "metadata": {},
     "output_type": "display_data"
    }
   ],
   "source": [
    "plt.imshow(np.asarray(outp))"
   ]
  },
  {
   "cell_type": "code",
   "execution_count": 50,
   "metadata": {
    "ExecuteTime": {
     "end_time": "2019-02-14T10:49:06.329300Z",
     "start_time": "2019-02-14T10:49:06.207992Z"
    }
   },
   "outputs": [],
   "source": [
    "def showAttention(img_path, attentionVector, l_size = 280, r_size = 40):\n",
    "    att = sorted(list(enumerate(attentionVector.flatten())),key=lambda tup:tup[1],reverse=True)\n",
    "    idxs,att = zip(*att)\n",
    "    j=1\n",
    "    while sum(att[:j])<0.9:\n",
    "        j+=1\n",
    "    positions = idxs[:j]\n",
    "#     print(positions)\n",
    "    print(\"Attention weights: \",att[:j])\n",
    "    \n",
    "    l = int(np.ceil(r_size/8.))\n",
    "    r = int(np.ceil(l_size/8.))\n",
    "    \n",
    "    positions_norm = [(pos/r,pos%r) for pos in positions]\n",
    "    outarray = np.ones((l+1,r+1))*255.\n",
    "    for loc in positions_norm:\n",
    "        print(\"({}, {})\".format(int(loc[0]), int(loc[1])))\n",
    "        outarray[int(loc[0]), int(loc[1])] = 0.\n",
    "    out_image = Image.fromarray(outarray).resize((l_size,r_size),Image.NEAREST)\n",
    "    \n",
    "    inp_image =Image.open(img_path)\n",
    "    # inp_image = Image.fromarray(lena).resize((l_size,r_size))\n",
    "    outp = Image.blend(inp_image.convert('RGBA'),out_image.convert('RGBA'),0.5)\n",
    "    \n",
    "    plt.imshow(np.asarray(outp))\n",
    "    "
   ]
  },
  {
   "cell_type": "code",
   "execution_count": 51,
   "metadata": {
    "ExecuteTime": {
     "end_time": "2019-02-14T10:49:09.293709Z",
     "start_time": "2019-02-14T10:49:07.771075Z"
    },
    "scrolled": true
   },
   "outputs": [
    {
     "name": "stdout",
     "output_type": "stream",
     "text": [
      "Attention weights:  (0.9542683,)\n",
      "(0, 0)\n",
      "Attention weights:  (0.9556623,)\n",
      "(2, 29)\n",
      "Attention weights:  (0.59270257, 0.30523354, 0.14749217)\n",
      "(3, 27)\n",
      "(3, 28)\n",
      "(2, 0)\n",
      "Attention weights:  (0.6875174, 0.47137567)\n",
      "(3, 27)\n",
      "(0, 34)\n",
      "Attention weights:  (0.39590013, 0.27393937, 0.20011967, 0.16476971)\n",
      "(1, 32)\n",
      "(0, 34)\n",
      "(3, 31)\n",
      "(1, 1)\n",
      "Attention weights:  (0.6169688, 0.44949105)\n",
      "(0, 1)\n",
      "(4, 25)\n",
      "Attention weights:  (0.19881532, 0.17254636, 0.16342728, 0.123204194, 0.1083448, 0.101837404, 0.09724661)\n",
      "(4, 27)\n",
      "(1, 2)\n",
      "(3, 29)\n",
      "(3, 30)\n",
      "(2, 32)\n",
      "(2, 0)\n",
      "(1, 34)\n",
      "Attention weights:  (0.97157985,)\n",
      "(0, 1)\n",
      "Attention weights:  (0.5153511, 0.51193136)\n",
      "(0, 1)\n",
      "(2, 30)\n",
      "Attention weights:  (0.71340376, 0.67807186)\n",
      "(0, 2)\n",
      "(2, 31)\n",
      "Attention weights:  (0.15593028, 0.14656407, 0.10824284, 0.106773645, 0.09002662, 0.08925522, 0.08607354, 0.081916444, 0.078671664)\n",
      "(3, 30)\n",
      "(2, 31)\n",
      "(0, 2)\n",
      "(4, 27)\n",
      "(1, 1)\n",
      "(1, 33)\n",
      "(0, 4)\n",
      "(2, 33)\n",
      "(1, 2)\n",
      "Attention weights:  (0.20952146, 0.20745529, 0.15318432, 0.12783961, 0.11596619, 0.11585516)\n",
      "(4, 29)\n",
      "(2, 0)\n",
      "(4, 30)\n",
      "(2, 3)\n",
      "(4, 28)\n",
      "(1, 34)\n",
      "Attention weights:  (0.57854056, 0.40760398)\n",
      "(3, 29)\n",
      "(1, 0)\n",
      "Attention weights:  (0.26800057, 0.23372312, 0.19523771, 0.18407452, 0.15617098)\n",
      "(3, 30)\n",
      "(1, 1)\n",
      "(1, 33)\n",
      "(4, 27)\n",
      "(2, 32)\n",
      "Attention weights:  (0.40404958, 0.39563942, 0.26033613)\n",
      "(2, 32)\n",
      "(0, 3)\n",
      "(3, 30)\n",
      "Attention weights:  (0.6919654, 0.6234267)\n",
      "(2, 34)\n",
      "(0, 5)\n",
      "Attention weights:  (0.42107242, 0.3967113, 0.37842447)\n",
      "(0, 8)\n",
      "(0, 7)\n",
      "(3, 1)\n",
      "Attention weights:  (0.87601763, 0.8615827)\n",
      "(3, 3)\n",
      "(0, 9)\n",
      "Attention weights:  (0.7983321, 0.75032693)\n",
      "(4, 2)\n",
      "(1, 8)\n",
      "Attention weights:  (0.24779251, 0.21428001, 0.20378394, 0.1997035, 0.124792136)\n",
      "(2, 4)\n",
      "(4, 34)\n",
      "(2, 5)\n",
      "(4, 33)\n",
      "(4, 0)\n",
      "Attention weights:  (0.4887664, 0.47529435)\n",
      "(1, 8)\n",
      "(4, 3)\n",
      "Attention weights:  (0.7201836, 0.6918995)\n",
      "(5, 1)\n",
      "(2, 7)\n",
      "Attention weights:  (0.47233978, 0.4164452, 0.253947)\n",
      "(0, 10)\n",
      "(3, 4)\n",
      "(3, 6)\n",
      "Attention weights:  (0.15555617, 0.14821383, 0.14787577, 0.14697652, 0.12705973, 0.11654886, 0.06543858)\n",
      "(3, 31)\n",
      "(1, 10)\n",
      "(1, 2)\n",
      "(4, 4)\n",
      "(5, 2)\n",
      "(2, 8)\n",
      "(1, 34)\n",
      "Attention weights:  (0.93136334,)\n",
      "(3, 4)\n",
      "Attention weights:  (0.4965468, 0.4369039)\n",
      "(0, 11)\n",
      "(3, 5)\n",
      "Attention weights:  (0.85135615, 0.7003515)\n",
      "(0, 12)\n",
      "(3, 6)\n",
      "Attention weights:  (0.2839573, 0.26359814, 0.23153573, 0.2265904)\n",
      "(4, 4)\n",
      "(0, 13)\n",
      "(3, 7)\n",
      "(1, 10)\n",
      "Attention weights:  (0.29996902, 0.24674723, 0.15415604, 0.124904096, 0.11477251)\n",
      "(2, 10)\n",
      "(5, 4)\n",
      "(4, 33)\n",
      "(1, 13)\n",
      "(2, 4)\n",
      "Attention weights:  (0.7350942, 0.7050513)\n",
      "(1, 11)\n",
      "(4, 5)\n",
      "Attention weights:  (0.69035643, 0.6557087)\n",
      "(1, 12)\n",
      "(4, 6)\n",
      "Attention weights:  (0.6907985, 0.5746866)\n",
      "(0, 14)\n",
      "(3, 8)\n",
      "Attention weights:  (0.97634095,)\n",
      "(3, 10)\n",
      "Attention weights:  (0.39801973, 0.3905571, 0.38829523)\n",
      "(4, 9)\n",
      "(3, 11)\n",
      "(0, 17)\n",
      "Attention weights:  (0.27399626, 0.23457499, 0.07189047, 0.0690531, 0.06651243, 0.060124997, 0.058954455, 0.058264006, 0.056110445)\n",
      "(4, 11)\n",
      "(1, 17)\n",
      "(3, 12)\n",
      "(3, 13)\n",
      "(1, 21)\n",
      "(3, 11)\n",
      "(2, 15)\n",
      "(2, 19)\n",
      "(4, 15)\n",
      "Attention weights:  (0.841667, 0.8291125)\n",
      "(0, 20)\n",
      "(3, 14)\n",
      "Attention weights:  (0.6678084, 0.6512521)\n",
      "(0, 21)\n",
      "(3, 15)\n",
      "Attention weights:  (0.6386223, 0.6171111)\n",
      "(0, 23)\n",
      "(3, 17)\n",
      "Attention weights:  (0.32857695, 0.31381992, 0.2925483)\n",
      "(1, 21)\n",
      "(4, 15)\n",
      "(1, 22)\n",
      "Attention weights:  (0.6467684, 0.6464125)\n",
      "(3, 18)\n",
      "(0, 24)\n",
      "Attention weights:  (0.62081933, 0.6002704)\n",
      "(0, 25)\n",
      "(3, 19)\n",
      "Attention weights:  (0.38024917, 0.36360708, 0.15988672)\n",
      "(0, 25)\n",
      "(3, 19)\n",
      "(0, 26)\n",
      "Attention weights:  (0.26949286, 0.24717481, 0.18580586, 0.18080802, 0.15824676)\n",
      "(3, 20)\n",
      "(0, 26)\n",
      "(0, 27)\n",
      "(3, 21)\n",
      "(1, 23)\n",
      "Attention weights:  (0.731013, 0.7190955)\n",
      "(3, 21)\n",
      "(0, 27)\n",
      "Attention weights:  (0.38375932, 0.37355235, 0.31789806)\n",
      "(1, 26)\n",
      "(4, 20)\n",
      "(3, 22)\n",
      "Attention weights:  (0.79137087, 0.7008179)\n",
      "(3, 23)\n",
      "(0, 29)\n",
      "Attention weights:  (0.6262414, 0.42943627)\n",
      "(4, 21)\n",
      "(1, 27)\n",
      "Attention weights:  (0.15818879, 0.13707092, 0.13286918, 0.11648203, 0.10287381, 0.09347813, 0.07928256, 0.07284153, 0.07220268)\n",
      "(3, 21)\n",
      "(0, 30)\n",
      "(3, 19)\n",
      "(4, 22)\n",
      "(2, 25)\n",
      "(0, 25)\n",
      "(3, 25)\n",
      "(0, 27)\n",
      "(2, 26)\n"
     ]
    },
    {
     "data": {
      "image/png": "[encoded data removed]",
      "text/plain": [
       "<matplotlib.figure.Figure at 0x7f48c82deda0>"
      ]
     },
     "metadata": {},
     "output_type": "display_data"
    }
   ],
   "source": [
    "for attentionVector in model.components.attention_mechanism.ctx_vector:\n",
    "    showAttention(img_path, attentionVector)"
   ]
  },
  {
   "cell_type": "code",
   "execution_count": null,
   "metadata": {
    "ExecuteTime": {
     "end_time": "2019-02-16T09:38:02.360469Z",
     "start_time": "2019-02-16T09:37:11.730Z"
    },
    "scrolled": false
   },
   "outputs": [],
   "source": [
    "for attentionVector in model.components.attention_mechanism.ctx_vector:\n",
    "    att = sorted(list(enumerate(attentionVector.flatten())),key=lambda tup:tup[1],reverse=True)\n",
    "    idxs,att = zip(*att)\n",
    "    j=1\n",
    "    while sum(att[:j])<0.9:\n",
    "        j+=1\n",
    "    positions = idxs[:]\n",
    "#     print(positions)\n",
    "#     print(\"Attention weights: \",att[:j])\n",
    "    \n",
    "    l = int(np.ceil(r_size/9.))\n",
    "    r = int(np.ceil(l_size/9.))\n",
    "    \n",
    "    positions_norm = [(pos/r,pos%r) for pos in positions]\n",
    "    outarray = np.ones((l+1,r+1))*255.\n",
    "    for loc in positions_norm:\n",
    "#         print(\"({}, {})\".format(int(loc[0]), int(loc[1])))\n",
    "        outarray[int(loc[0]), int(loc[1])] = 0.\n",
    "    out_image = Image.fromarray(outarray).resize((l_size,r_size),Image.NEAREST)\n",
    "    \n",
    "    inp_image =Image.open(img_path)\n",
    "    # inp_image = Image.fromarray(lena).resize((l_size,r_size))\n",
    "    outp = Image.blend(inp_image.convert('RGBA'),out_image.convert('RGBA'),0.5)\n",
    "    plt.figure()\n",
    "    plt.imshow(np.asarray(outp))"
   ]
  },
  {
   "cell_type": "code",
   "execution_count": 28,
   "metadata": {
    "ExecuteTime": {
     "end_time": "2019-02-15T02:58:16.368962Z",
     "start_time": "2019-02-15T02:58:16.333140Z"
    }
   },
   "outputs": [
    {
     "name": "stdout",
     "output_type": "stream",
     "text": [
      "0.1904561\n",
      "0.10216277\n",
      "0.10134463\n",
      "0.07614658\n",
      "0.07094339\n",
      "0.038535256\n",
      "0.036463838\n",
      "0.029841008\n",
      "0.029266104\n",
      "0.023798723\n",
      "0.022133887\n",
      "0.020347353\n",
      "0.020001085\n",
      "0.018455146\n",
      "0.018046502\n",
      "0.014349735\n",
      "0.013038323\n",
      "0.012035104\n",
      "0.009469746\n",
      "0.009181045\n",
      "0.008439194\n",
      "0.007407488\n",
      "0.0071987226\n",
      "0.0068834303\n",
      "0.006534636\n",
      "0.006301264\n",
      "0.005370869\n",
      "0.00448472\n",
      "0.0040550823\n",
      "0.0037010903\n",
      "0.0034157336\n",
      "0.0034008175\n",
      "0.0032099907\n",
      "0.0031377373\n",
      "0.0030673617\n",
      "0.0029633844\n",
      "0.0029448778\n",
      "0.0029134043\n",
      "0.002880624\n",
      "0.002691741\n",
      "0.0024817379\n",
      "0.0024379182\n",
      "0.0024256245\n",
      "0.0023824114\n",
      "0.002214257\n",
      "0.0022054517\n",
      "0.0019202054\n",
      "0.0018418594\n",
      "0.0018108621\n",
      "0.001705693\n",
      "0.0016904012\n",
      "0.0016144449\n",
      "0.0015506773\n",
      "0.0014531148\n",
      "0.0013868271\n",
      "0.0013221565\n",
      "0.0013106957\n",
      "0.0011251258\n",
      "0.0010843007\n",
      "0.0009909987\n",
      "0.000990105\n",
      "0.0009824617\n",
      "0.0009716512\n",
      "0.00093699875\n",
      "0.00093399483\n",
      "0.0008747801\n",
      "0.0008604561\n",
      "0.000688703\n",
      "0.00062854344\n",
      "0.00061591103\n",
      "0.00060357957\n",
      "0.0005844328\n",
      "0.00057850656\n",
      "0.0005318662\n",
      "0.000524141\n",
      "0.0005091581\n",
      "0.0005022304\n",
      "0.00047900638\n",
      "0.00044969225\n",
      "0.00044929705\n",
      "0.0004235016\n",
      "0.00042256323\n",
      "0.00041714188\n",
      "0.00033365874\n",
      "0.0003219103\n",
      "0.0003015914\n",
      "0.00028196038\n",
      "0.00027959867\n",
      "0.00023167343\n",
      "0.00021620798\n",
      "0.00021578322\n",
      "0.00018466178\n",
      "0.00015470487\n",
      "0.00013835936\n",
      "0.00012551092\n",
      "0.00010963535\n",
      "7.089636e-05\n",
      "6.716668e-05\n",
      "3.4628065e-05\n"
     ]
    }
   ],
   "source": [
    "att = sorted(list(enumerate(attentionVector[0].flatten())),key=lambda tup:tup[1],reverse=True)\n",
    "idxs,positions = zip(*att)\n",
    "for pos in positions:\n",
    "    print(pos)"
   ]
  },
  {
   "cell_type": "code",
   "execution_count": 1,
   "metadata": {
    "ExecuteTime": {
     "end_time": "2019-02-16T09:36:23.113722Z",
     "start_time": "2019-02-16T09:36:22.581235Z"
    }
   },
   "outputs": [
    {
     "ename": "NameError",
     "evalue": "name 'attentionVector' is not defined",
     "output_type": "error",
     "traceback": [
      "\u001b[0;31m---------------------------------------------------------------------------\u001b[0m",
      "\u001b[0;31mNameError\u001b[0m                                 Traceback (most recent call last)",
      "\u001b[0;32m<ipython-input-1-9524293fdc0b>\u001b[0m in \u001b[0;36m<module>\u001b[0;34m()\u001b[0m\n\u001b[0;32m----> 1\u001b[0;31m \u001b[0matt\u001b[0m \u001b[0;34m=\u001b[0m \u001b[0msorted\u001b[0m\u001b[0;34m(\u001b[0m\u001b[0mlist\u001b[0m\u001b[0;34m(\u001b[0m\u001b[0menumerate\u001b[0m\u001b[0;34m(\u001b[0m\u001b[0mattentionVector\u001b[0m\u001b[0;34m[\u001b[0m\u001b[0;36m0\u001b[0m\u001b[0;34m]\u001b[0m\u001b[0;34m.\u001b[0m\u001b[0mflatten\u001b[0m\u001b[0;34m(\u001b[0m\u001b[0;34m)\u001b[0m\u001b[0;34m)\u001b[0m\u001b[0;34m)\u001b[0m\u001b[0;34m,\u001b[0m\u001b[0mkey\u001b[0m\u001b[0;34m=\u001b[0m\u001b[0;32mlambda\u001b[0m \u001b[0mtup\u001b[0m\u001b[0;34m:\u001b[0m\u001b[0mtup\u001b[0m\u001b[0;34m[\u001b[0m\u001b[0;36m1\u001b[0m\u001b[0;34m]\u001b[0m\u001b[0;34m,\u001b[0m\u001b[0mreverse\u001b[0m\u001b[0;34m=\u001b[0m\u001b[0;32mTrue\u001b[0m\u001b[0;34m)\u001b[0m\u001b[0;34m\u001b[0m\u001b[0m\n\u001b[0m\u001b[1;32m      2\u001b[0m \u001b[0midxs\u001b[0m\u001b[0;34m,\u001b[0m\u001b[0matt\u001b[0m \u001b[0;34m=\u001b[0m \u001b[0mzip\u001b[0m\u001b[0;34m(\u001b[0m\u001b[0;34m*\u001b[0m\u001b[0matt\u001b[0m\u001b[0;34m)\u001b[0m\u001b[0;34m\u001b[0m\u001b[0m\n\u001b[1;32m      3\u001b[0m \u001b[0mj\u001b[0m\u001b[0;34m=\u001b[0m\u001b[0;36m1\u001b[0m\u001b[0;34m\u001b[0m\u001b[0m\n\u001b[1;32m      4\u001b[0m \u001b[0;32mwhile\u001b[0m \u001b[0msum\u001b[0m\u001b[0;34m(\u001b[0m\u001b[0matt\u001b[0m\u001b[0;34m[\u001b[0m\u001b[0;34m:\u001b[0m\u001b[0mj\u001b[0m\u001b[0;34m]\u001b[0m\u001b[0;34m)\u001b[0m\u001b[0;34m<\u001b[0m\u001b[0;36m0.9\u001b[0m\u001b[0;34m:\u001b[0m\u001b[0;34m\u001b[0m\u001b[0m\n\u001b[1;32m      5\u001b[0m     \u001b[0mj\u001b[0m\u001b[0;34m+=\u001b[0m\u001b[0;36m1\u001b[0m\u001b[0;34m\u001b[0m\u001b[0m\n",
      "\u001b[0;31mNameError\u001b[0m: name 'attentionVector' is not defined"
     ]
    }
   ],
   "source": [
    "att = sorted(list(enumerate(attentionVector[0].flatten())),key=lambda tup:tup[1],reverse=True)\n",
    "idxs,att = zip(*att)\n",
    "j=1\n",
    "while sum(att[:j])<0.9:\n",
    "    j+=1\n",
    "positions = idxs[:]\n",
    "#     print(positions)\n",
    "#     print(\"Attention weights: \",att[:j])\n",
    "\n",
    "l = int(np.ceil(r_size/8.))\n",
    "r = int(np.ceil(l_size/8.))\n",
    "\n",
    "positions_norm = [(pos/r,pos%r) for pos in positions]\n",
    "outarray = np.ones((l,r))*255.\n",
    "for loc in positions_norm:\n",
    "#         print(\"({}, {})\".format(int(loc[0]), int(loc[1])))\n",
    "    outarray[int(loc[0]), int(loc[1])] = 0.\n",
    "out_image = Image.fromarray(outarray).resize((l_size,r_size),Image.NEAREST)\n",
    "\n",
    "inp_image =Image.open(img_path)\n",
    "# inp_image = Image.fromarray(lena).resize((l_size,r_size))\n",
    "outp = Image.blend(inp_image.convert('RGBA'),out_image.convert('RGBA'),0.5)\n",
    "plt.figure()\n",
    "plt.imshow(np.asarray(outp))"
   ]
  },
  {
   "cell_type": "code",
   "execution_count": 26,
   "metadata": {
    "ExecuteTime": {
     "end_time": "2019-02-15T02:55:45.358566Z",
     "start_time": "2019-02-15T02:55:45.350807Z"
    }
   },
   "outputs": [
    {
     "data": {
      "text/plain": [
       "99"
      ]
     },
     "execution_count": 26,
     "metadata": {},
     "output_type": "execute_result"
    }
   ],
   "source": [
    "len(att)"
   ]
  },
  {
   "cell_type": "code",
   "execution_count": 27,
   "metadata": {
    "ExecuteTime": {
     "end_time": "2019-02-15T02:55:49.751926Z",
     "start_time": "2019-02-15T02:55:49.734517Z"
    }
   },
   "outputs": [
    {
     "data": {
      "text/plain": [
       "(0.1904561,\n",
       " 0.10216277,\n",
       " 0.10134463,\n",
       " 0.07614658,\n",
       " 0.07094339,\n",
       " 0.038535256,\n",
       " 0.036463838,\n",
       " 0.029841008,\n",
       " 0.029266104,\n",
       " 0.023798723,\n",
       " 0.022133887,\n",
       " 0.020347353,\n",
       " 0.020001085,\n",
       " 0.018455146,\n",
       " 0.018046502,\n",
       " 0.014349735,\n",
       " 0.013038323,\n",
       " 0.012035104,\n",
       " 0.009469746,\n",
       " 0.009181045,\n",
       " 0.008439194,\n",
       " 0.007407488,\n",
       " 0.0071987226,\n",
       " 0.0068834303,\n",
       " 0.006534636,\n",
       " 0.006301264,\n",
       " 0.005370869,\n",
       " 0.00448472,\n",
       " 0.0040550823,\n",
       " 0.0037010903,\n",
       " 0.0034157336,\n",
       " 0.0034008175,\n",
       " 0.0032099907,\n",
       " 0.0031377373,\n",
       " 0.0030673617,\n",
       " 0.0029633844,\n",
       " 0.0029448778,\n",
       " 0.0029134043,\n",
       " 0.002880624,\n",
       " 0.002691741,\n",
       " 0.0024817379,\n",
       " 0.0024379182,\n",
       " 0.0024256245,\n",
       " 0.0023824114,\n",
       " 0.002214257,\n",
       " 0.0022054517,\n",
       " 0.0019202054,\n",
       " 0.0018418594,\n",
       " 0.0018108621,\n",
       " 0.001705693,\n",
       " 0.0016904012,\n",
       " 0.0016144449,\n",
       " 0.0015506773,\n",
       " 0.0014531148,\n",
       " 0.0013868271,\n",
       " 0.0013221565,\n",
       " 0.0013106957,\n",
       " 0.0011251258,\n",
       " 0.0010843007,\n",
       " 0.0009909987,\n",
       " 0.000990105,\n",
       " 0.0009824617,\n",
       " 0.0009716512,\n",
       " 0.00093699875,\n",
       " 0.00093399483,\n",
       " 0.0008747801,\n",
       " 0.0008604561,\n",
       " 0.000688703,\n",
       " 0.00062854344,\n",
       " 0.00061591103,\n",
       " 0.00060357957,\n",
       " 0.0005844328,\n",
       " 0.00057850656,\n",
       " 0.0005318662,\n",
       " 0.000524141,\n",
       " 0.0005091581,\n",
       " 0.0005022304,\n",
       " 0.00047900638,\n",
       " 0.00044969225,\n",
       " 0.00044929705,\n",
       " 0.0004235016,\n",
       " 0.00042256323,\n",
       " 0.00041714188,\n",
       " 0.00033365874,\n",
       " 0.0003219103,\n",
       " 0.0003015914,\n",
       " 0.00028196038,\n",
       " 0.00027959867,\n",
       " 0.00023167343,\n",
       " 0.00021620798,\n",
       " 0.00021578322,\n",
       " 0.00018466178,\n",
       " 0.00015470487,\n",
       " 0.00013835936,\n",
       " 0.00012551092,\n",
       " 0.00010963535,\n",
       " 7.089636e-05,\n",
       " 6.716668e-05,\n",
       " 3.4628065e-05)"
      ]
     },
     "execution_count": 27,
     "metadata": {},
     "output_type": "execute_result"
    }
   ],
   "source": [
    "att"
   ]
  },
  {
   "cell_type": "code",
   "execution_count": 36,
   "metadata": {
    "ExecuteTime": {
     "end_time": "2019-02-15T04:56:05.470472Z",
     "start_time": "2019-02-15T04:56:05.283275Z"
    }
   },
   "outputs": [
    {
     "data": {
      "text/plain": [
       "[(64, 0.1904561),\n",
       " (63, 0.10216277),\n",
       " (30, 0.10134463),\n",
       " (24, 0.07614658),\n",
       " (27, 0.07094339),\n",
       " (32, 0.038535256),\n",
       " (25, 0.036463838),\n",
       " (95, 0.029841008),\n",
       " (96, 0.029266104),\n",
       " (31, 0.023798723),\n",
       " (29, 0.022133887),\n",
       " (62, 0.020347353),\n",
       " (55, 0.020001085),\n",
       " (97, 0.018455146),\n",
       " (65, 0.018046502),\n",
       " (98, 0.014349735),\n",
       " (6, 0.013038323),\n",
       " (93, 0.012035104),\n",
       " (54, 0.009469746),\n",
       " (69, 0.009181045),\n",
       " (58, 0.008439194),\n",
       " (57, 0.007407488),\n",
       " (18, 0.0071987226),\n",
       " (85, 0.0068834303),\n",
       " (91, 0.006534636),\n",
       " (82, 0.006301264),\n",
       " (84, 0.005370869),\n",
       " (49, 0.00448472),\n",
       " (8, 0.0040550823),\n",
       " (0, 0.0037010903),\n",
       " (48, 0.0034157336),\n",
       " (70, 0.0034008175),\n",
       " (92, 0.0032099907),\n",
       " (89, 0.0031377373),\n",
       " (88, 0.0030673617),\n",
       " (59, 0.0029633844),\n",
       " (94, 0.0029448778),\n",
       " (23, 0.0029134043),\n",
       " (75, 0.002880624),\n",
       " (40, 0.002691741),\n",
       " (51, 0.0024817379),\n",
       " (90, 0.0024379182),\n",
       " (52, 0.0024256245),\n",
       " (36, 0.0023824114),\n",
       " (15, 0.002214257),\n",
       " (60, 0.0022054517),\n",
       " (81, 0.0019202054),\n",
       " (72, 0.0018418594),\n",
       " (44, 0.0018108621),\n",
       " (39, 0.001705693),\n",
       " (10, 0.0016904012),\n",
       " (26, 0.0016144449),\n",
       " (67, 0.0015506773),\n",
       " (41, 0.0014531148),\n",
       " (22, 0.0013868271),\n",
       " (56, 0.0013221565),\n",
       " (12, 0.0013106957),\n",
       " (61, 0.0011251258),\n",
       " (83, 0.0010843007),\n",
       " (5, 0.0009909987),\n",
       " (74, 0.000990105),\n",
       " (7, 0.0009824617),\n",
       " (28, 0.0009716512),\n",
       " (68, 0.00093699875),\n",
       " (9, 0.00093399483),\n",
       " (21, 0.0008747801),\n",
       " (87, 0.0008604561),\n",
       " (11, 0.000688703),\n",
       " (73, 0.00062854344),\n",
       " (76, 0.00061591103),\n",
       " (3, 0.00060357957),\n",
       " (1, 0.0005844328),\n",
       " (4, 0.00057850656),\n",
       " (86, 0.0005318662),\n",
       " (37, 0.000524141),\n",
       " (80, 0.0005091581),\n",
       " (14, 0.0005022304),\n",
       " (2, 0.00047900638),\n",
       " (77, 0.00044969225),\n",
       " (19, 0.00044929705),\n",
       " (42, 0.0004235016),\n",
       " (66, 0.00042256323),\n",
       " (38, 0.00041714188),\n",
       " (71, 0.00033365874),\n",
       " (16, 0.0003219103),\n",
       " (50, 0.0003015914),\n",
       " (78, 0.00028196038),\n",
       " (20, 0.00027959867),\n",
       " (45, 0.00023167343),\n",
       " (53, 0.00021620798),\n",
       " (17, 0.00021578322),\n",
       " (35, 0.00018466178),\n",
       " (47, 0.00015470487),\n",
       " (43, 0.00013835936),\n",
       " (46, 0.00012551092),\n",
       " (79, 0.00010963535),\n",
       " (34, 7.089636e-05),\n",
       " (13, 6.716668e-05),\n",
       " (33, 3.4628065e-05)]"
      ]
     },
     "execution_count": 36,
     "metadata": {},
     "output_type": "execute_result"
    }
   ],
   "source": [
    "sorted(list(enumerate(attentionVector[0].flatten())),key=lambda tup:tup[1],reverse=True)"
   ]
  },
  {
   "cell_type": "code",
   "execution_count": 2,
   "metadata": {
    "ExecuteTime": {
     "end_time": "2019-02-16T11:10:17.059540Z",
     "start_time": "2019-02-16T11:10:17.038133Z"
    }
   },
   "outputs": [
    {
     "ename": "NameError",
     "evalue": "name 'dir_output' is not defined",
     "output_type": "error",
     "traceback": [
      "\u001b[0;31m---------------------------------------------------------------------------\u001b[0m",
      "\u001b[0;31mNameError\u001b[0m                                 Traceback (most recent call last)",
      "\u001b[0;32m<ipython-input-2-27aad5f228a9>\u001b[0m in \u001b[0;36m<module>\u001b[0;34m()\u001b[0m\n\u001b[1;32m      1\u001b[0m \u001b[0;32mimport\u001b[0m \u001b[0mos\u001b[0m\u001b[0;34m\u001b[0m\u001b[0m\n\u001b[0;32m----> 2\u001b[0;31m \u001b[0mos\u001b[0m\u001b[0;34m.\u001b[0m\u001b[0mlistdir\u001b[0m\u001b[0;34m(\u001b[0m\u001b[0mdir_output\u001b[0m\u001b[0;34m+\u001b[0m\u001b[0;34m\"\"\u001b[0m\u001b[0;34m)\u001b[0m\u001b[0;34m\u001b[0m\u001b[0m\n\u001b[0m",
      "\u001b[0;31mNameError\u001b[0m: name 'dir_output' is not defined"
     ]
    }
   ],
   "source": [
    "import os\n",
    "os.listdir(dir_output+\"\")"
   ]
  },
  {
   "cell_type": "code",
   "execution_count": 1,
   "metadata": {
    "ExecuteTime": {
     "end_time": "2019-02-16T11:10:13.864408Z",
     "start_time": "2019-02-16T11:10:13.356484Z"
    }
   },
   "outputs": [
    {
     "ename": "NameError",
     "evalue": "name 'os' is not defined",
     "output_type": "error",
     "traceback": [
      "\u001b[0;31m---------------------------------------------------------------------------\u001b[0m",
      "\u001b[0;31mNameError\u001b[0m                                 Traceback (most recent call last)",
      "\u001b[0;32m<ipython-input-1-17c5403013ab>\u001b[0m in \u001b[0;36m<module>\u001b[0;34m()\u001b[0m\n\u001b[0;32m----> 1\u001b[0;31m \u001b[0mos\u001b[0m\u001b[0;34m.\u001b[0m\u001b[0mlistdir\u001b[0m\u001b[0;34m(\u001b[0m\u001b[0;34m\"./results/\"\u001b[0m\u001b[0;34m)\u001b[0m\u001b[0;34m\u001b[0m\u001b[0m\n\u001b[0m",
      "\u001b[0;31mNameError\u001b[0m: name 'os' is not defined"
     ]
    }
   ],
   "source": [
    "os.listdir(\"./results/\")"
   ]
  },
  {
   "cell_type": "code",
   "execution_count": 9,
   "metadata": {
    "ExecuteTime": {
     "end_time": "2019-02-16T10:59:16.982317Z",
     "start_time": "2019-02-16T10:59:16.974158Z"
    }
   },
   "outputs": [
    {
     "data": {
      "text/plain": [
       "'/mnt/c/Users/dlink/Documents/GitHub/img2latex/im2latex'"
      ]
     },
     "execution_count": 9,
     "metadata": {},
     "output_type": "execute_result"
    }
   ],
   "source": [
    "os.getcwd()"
   ]
  },
  {
   "cell_type": "code",
   "execution_count": null,
   "metadata": {},
   "outputs": [],
   "source": []
  },
  {
   "cell_type": "code",
   "execution_count": null,
   "metadata": {},
   "outputs": [],
   "source": []
  },
  {
   "cell_type": "code",
   "execution_count": null,
   "metadata": {},
   "outputs": [],
   "source": []
  }
 ],
 "metadata": {
  "kernelspec": {
   "display_name": "Python 3",
   "language": "python",
   "name": "python3"
  },
  "language_info": {
   "codemirror_mode": {
    "name": "ipython",
    "version": 3
   },
   "file_extension": ".py",
   "mimetype": "text/x-python",
   "name": "python",
   "nbconvert_exporter": "python",
   "pygments_lexer": "ipython3",
   "version": "3.5.2"
  },
  "toc": {
   "nav_menu": {},
   "number_sections": true,
   "sideBar": true,
   "skip_h1_title": false,
   "toc_cell": true,
   "toc_position": {},
   "toc_section_display": "block",
   "toc_window_display": false
  },
  "varInspector": {
   "cols": {
    "lenName": 16,
    "lenType": 16,
    "lenVar": 40
   },
   "kernels_config": {
    "python": {
     "delete_cmd_postfix": "",
     "delete_cmd_prefix": "del ",
     "library": "var_list.py",
     "varRefreshCmd": "print(var_dic_list())"
    },
    "r": {
     "delete_cmd_postfix": ") ",
     "delete_cmd_prefix": "rm(",
     "library": "var_list.r",
     "varRefreshCmd": "cat(var_dic_list()) "
    }
   },
   "oldHeight": 343.5,
   "position": {
    "height": "40px",
    "left": "1163px",
    "right": "20px",
    "top": "136px",
    "width": "335px"
   },
   "types_to_exclude": [
    "module",
    "function",
    "builtin_function_or_method",
    "instance",
    "_Feature"
   ],
   "varInspector_section_display": "none",
   "window_display": true
  }
 },
 "nbformat": 4,
 "nbformat_minor": 2
}
